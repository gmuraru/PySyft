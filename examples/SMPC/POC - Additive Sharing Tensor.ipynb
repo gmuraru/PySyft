{
 "cells": [
  {
   "cell_type": "markdown",
   "metadata": {},
   "source": [
    "# Additive Sharing Tensor"
   ]
  },
  {
   "cell_type": "markdown",
   "metadata": {},
   "source": [
    "## Import libs"
   ]
  },
  {
   "cell_type": "code",
   "execution_count": 1,
   "metadata": {},
   "outputs": [],
   "source": [
    "import syft as sy\n",
    "import torch\n",
    "\n",
    "import sympc"
   ]
  },
  {
   "cell_type": "markdown",
   "metadata": {},
   "source": [
    "## Create the clients"
   ]
  },
  {
   "cell_type": "code",
   "execution_count": 2,
   "metadata": {},
   "outputs": [],
   "source": [
    "alice = sy.VirtualMachine(name=\"alice\")\n",
    "bob = sy.VirtualMachine(name=\"bob\")\n",
    "\n",
    "alice_client = alice.get_client()\n",
    "bob_client = bob.get_client()"
   ]
  },
  {
   "cell_type": "markdown",
   "metadata": {},
   "source": [
    "## Create a session"
   ]
  },
  {
   "cell_type": "markdown",
   "metadata": {},
   "source": [
    "The session is used to send some config information only once between the parties.\n",
    "This information can be:\n",
    "* the ring size in which we do the computation\n",
    "* the precision and base\n",
    "* the approximation methods we are using for different functions (TODO)"
   ]
  },
  {
   "cell_type": "code",
   "execution_count": 3,
   "metadata": {},
   "outputs": [
    {
     "name": "stdout",
     "output_type": "stream",
     "text": [
      "<syft.lib.sympc.session.SySession object at 0x7fb71b051af0>\n"
     ]
    }
   ],
   "source": [
    "session = sy.lib.sympc.session.SySession(parties=[alice_client, bob_client])\n",
    "print(session)"
   ]
  },
  {
   "cell_type": "markdown",
   "metadata": {},
   "source": [
    "## Send the session to all the parties"
   ]
  },
  {
   "cell_type": "code",
   "execution_count": 4,
   "metadata": {},
   "outputs": [],
   "source": [
    "session.setup_mpc()"
   ]
  },
  {
   "cell_type": "code",
   "execution_count": 5,
   "metadata": {},
   "outputs": [],
   "source": [
    "x = sympc.tensor.AdditiveSharingTensor(secret=torch.tensor([1,2,3,4]), session=session)"
   ]
  },
  {
   "cell_type": "code",
   "execution_count": 6,
   "metadata": {},
   "outputs": [
    {
     "name": "stdout",
     "output_type": "stream",
     "text": [
      "[AdditiveSharingTensor]\n",
      "\t[FixedPointEncoder]: precision: 4, base: 10\n",
      "\t<VirtualMachineClient: alice Client> -> TensorPointer\n",
      "\t<VirtualMachineClient: bob Client> -> TensorPointer\n"
     ]
    }
   ],
   "source": [
    "print(x)"
   ]
  },
  {
   "cell_type": "code",
   "execution_count": 7,
   "metadata": {},
   "outputs": [
    {
     "name": "stdout",
     "output_type": "stream",
     "text": [
      "tensor([-805832661310137163, 1637625446312185508, -989314220394355598,\n",
      "         367429296782212909])\n",
      "tensor([  805832661310147163, -1637625446312165508,   989314220394385598,\n",
      "         -367429296782172909])\n"
     ]
    }
   ],
   "source": [
    "# The values does not make sense for any user, unless they \"reconstruct\" the original tensor\n",
    "for val in x.shares:\n",
    "    print(val.get()) ## Attention! get() destroys the pointer"
   ]
  },
  {
   "cell_type": "code",
   "execution_count": 8,
   "metadata": {},
   "outputs": [],
   "source": [
    "x_secret = torch.tensor([1,2,3,4])\n",
    "x = sympc.tensor.AdditiveSharingTensor(secret=x_secret, session=session)"
   ]
  },
  {
   "cell_type": "code",
   "execution_count": 9,
   "metadata": {},
   "outputs": [
    {
     "name": "stdout",
     "output_type": "stream",
     "text": [
      "tensor([1., 2., 3., 4.])\n"
     ]
    }
   ],
   "source": [
    "print(x.reconstruct()) ## Attention! Also reconstruct, destroys the pointers"
   ]
  },
  {
   "cell_type": "markdown",
   "metadata": {},
   "source": [
    "## Public Operations"
   ]
  },
  {
   "cell_type": "code",
   "execution_count": 10,
   "metadata": {},
   "outputs": [],
   "source": [
    "x_secret = torch.tensor([1,2,3,4])\n",
    "x = sympc.tensor.AdditiveSharingTensor(secret=x_secret, session=session)\n",
    "\n",
    "y = 50"
   ]
  },
  {
   "cell_type": "code",
   "execution_count": 11,
   "metadata": {},
   "outputs": [
    {
     "name": "stdout",
     "output_type": "stream",
     "text": [
      "[AST + Pub] X + Y = tensor([51., 52., 53., 54.])\n",
      "[Pub + Pub] X + Y = tensor([51, 52, 53, 54])\n"
     ]
    }
   ],
   "source": [
    "print(\"[AST + Pub] X + Y =\", (x + y).reconstruct())\n",
    "print(\"[Pub + Pub] X + Y =\", x_secret + y)"
   ]
  },
  {
   "cell_type": "code",
   "execution_count": 12,
   "metadata": {},
   "outputs": [
    {
     "name": "stdout",
     "output_type": "stream",
     "text": [
      "[AST - Pub] X - Y = tensor([-49., -48., -47., -46.])\n",
      "[Pub - Pub] X - Y = tensor([-49, -48, -47, -46])\n"
     ]
    }
   ],
   "source": [
    "print(\"[AST - Pub] X - Y =\", (x - y).reconstruct())\n",
    "print(\"[Pub - Pub] X - Y =\", x_secret -y)"
   ]
  },
  {
   "cell_type": "code",
   "execution_count": 13,
   "metadata": {},
   "outputs": [
    {
     "name": "stdout",
     "output_type": "stream",
     "text": [
      "[AST * Pub] X * Y = tensor([ 50., 100., 150., 200.])\n",
      "[Pub * Pub] X * Y = tensor([ 50, 100, 150, 200])\n"
     ]
    }
   ],
   "source": [
    "print(\"[AST * Pub] X * Y =\", (x * y).reconstruct())\n",
    "print(\"[Pub * Pub] X * Y =\", x_secret * y)"
   ]
  },
  {
   "cell_type": "markdown",
   "metadata": {},
   "source": [
    "## Private Operations"
   ]
  },
  {
   "cell_type": "code",
   "execution_count": 14,
   "metadata": {},
   "outputs": [],
   "source": [
    "x_secret = torch.tensor([1, 2, 3])\n",
    "x = sympc.tensor.AdditiveSharingTensor(secret=x_secret,session=session)\n",
    "\n",
    "y_secret = 50\n",
    "y = sympc.tensor.AdditiveSharingTensor(secret=y_secret, session=session)"
   ]
  },
  {
   "cell_type": "code",
   "execution_count": 15,
   "metadata": {},
   "outputs": [
    {
     "name": "stdout",
     "output_type": "stream",
     "text": [
      "[AST + AST] X + Y = tensor([51., 52., 53.])\n",
      "[Pub + Pub] X + Y = tensor([51, 52, 53])\n"
     ]
    }
   ],
   "source": [
    "print(\"[AST + AST] X + Y =\", (x + y).reconstruct())\n",
    "print(\"[Pub + Pub] X + Y =\", x_secret + y_secret)"
   ]
  },
  {
   "cell_type": "code",
   "execution_count": 16,
   "metadata": {},
   "outputs": [
    {
     "name": "stdout",
     "output_type": "stream",
     "text": [
      "[AST - AST] X - Y = tensor([-49., -48., -47.])\n",
      "[Pub - Pub] X - Y = tensor([-49, -48, -47])\n"
     ]
    }
   ],
   "source": [
    "print(\"[AST - AST] X - Y =\", (x - y).reconstruct())\n",
    "print(\"[Pub - Pub] X - Y =\", x_secret - y_secret)"
   ]
  },
  {
   "cell_type": "code",
   "execution_count": 17,
   "metadata": {},
   "outputs": [
    {
     "name": "stdout",
     "output_type": "stream",
     "text": [
      "[AST * AST] X * Y = tensor([ 50., 100., 150.])\n",
      "[Pub * Pub] X * Y = tensor([ 50, 100, 150])\n"
     ]
    }
   ],
   "source": [
    "print(\"[AST * AST] X * Y =\", (x * y).reconstruct())\n",
    "print(\"[Pub * Pub] X * Y =\", x_secret * y_secret)"
   ]
  }
 ],
 "metadata": {
  "kernelspec": {
   "display_name": "Python 3",
   "language": "python",
   "name": "python3"
  },
  "language_info": {
   "codemirror_mode": {
    "name": "ipython",
    "version": 3
   },
   "file_extension": ".py",
   "mimetype": "text/x-python",
   "name": "python",
   "nbconvert_exporter": "python",
   "pygments_lexer": "ipython3",
   "version": "3.8.5"
  }
 },
 "nbformat": 4,
 "nbformat_minor": 4
}
